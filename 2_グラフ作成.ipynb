{
  "nbformat": 4,
  "nbformat_minor": 0,
  "metadata": {
    "colab": {
      "provenance": [],
      "authorship_tag": "ABX9TyODx5SsEVjeicfof9sSR4JC",
      "include_colab_link": true
    },
    "kernelspec": {
      "name": "python3",
      "display_name": "Python 3"
    },
    "language_info": {
      "name": "python"
    }
  },
  "cells": [
    {
      "cell_type": "markdown",
      "metadata": {
        "id": "view-in-github",
        "colab_type": "text"
      },
      "source": [
        "<a href=\"https://colab.research.google.com/github/iwa103/MintPy/blob/main/2_%E3%82%B0%E3%83%A9%E3%83%95%E4%BD%9C%E6%88%90.ipynb\" target=\"_parent\"><img src=\"https://colab.research.google.com/assets/colab-badge.svg\" alt=\"Open In Colab\"/></a>"
      ]
    },
    {
      "cell_type": "markdown",
      "source": [
        "## Geotiffから抽出データのCSVファイルからのグラフ作成（グラフ点数が多い場合に有効）"
      ],
      "metadata": {
        "id": "SKEookJF8--O"
      }
    },
    {
      "cell_type": "markdown",
      "source": [
        "## 基準日：20200303　毎回確認必要！！"
      ],
      "metadata": {
        "id": "Lvs1KkrJbLCD"
      }
    },
    {
      "cell_type": "code",
      "source": [
        "import pandas as pd\n",
        "import numpy as np\n",
        "import matplotlib.pyplot as plt\n",
        "import os\n",
        "import zipfile\n",
        "from google.colab import files\n",
        "import io\n",
        "\n",
        "# ファイルをアップロードし、結果を別の変数名に格納\n",
        "uploaded_files = files.upload()\n",
        "\n",
        "# CSVファイルを読み込む\n",
        "main_file_name = 'geoTIFF_values.csv'\n",
        "columns_file_name = 'columns.csv'\n",
        "\n",
        "main_data = pd.read_csv(io.BytesIO(uploaded_files[main_file_name]))\n",
        "columns_data = pd.read_csv(io.BytesIO(uploaded_files[columns_file_name]))\n",
        "\n",
        "# 日付列の処理\n",
        "main_data['Date'] = pd.to_datetime(main_data['Date'].str.split('_').str[1], format='%Y%m%d')\n",
        "base_date = pd.to_datetime('2020-03-03')  # 基準日を20200303に設定\n",
        "\n",
        "# グラフを保存するディレクトリを作成\n",
        "os.makedirs('plots', exist_ok=True)\n",
        "\n",
        "# 指定された各列に対してグラフを描画し、保存\n",
        "for column_number in columns_data['Column']:\n",
        "    column_name = f'{column_number}_value'\n",
        "    plt.figure(figsize=(10, 6))\n",
        "    plt.scatter(main_data['Date'], main_data[column_name], alpha=0.5)\n",
        "\n",
        "    # 基準日に青い垂直線を描画\n",
        "    plt.axvline(x=base_date, color='blue', linestyle='--')\n",
        "\n",
        "    # 近似線の計算\n",
        "    x = (main_data['Date'] - base_date).dt.days  # 基準日からの経過日数を使用\n",
        "    y = main_data[column_name]\n",
        "\n",
        "    # 傾きを計算（切片はゼロとする）\n",
        "    slope = np.polyfit(x, y, 1)[0]\n",
        "\n",
        "    # 傾きのみを使用して近似線を描画\n",
        "    plt.plot(main_data['Date'], slope * x, \"r--\")\n",
        "\n",
        "    plt.title(f'Scatter Plot of {column_name} Over Time')\n",
        "    plt.xlabel('Date')\n",
        "    plt.ylabel(column_name)\n",
        "    plt.grid(True)\n",
        "    plt.gcf().autofmt_xdate()\n",
        "    plt.savefig(f'plots/{column_name}.png')\n",
        "    plt.close()\n",
        "\n",
        "# すべてのPNGファイルをZIP形式で圧縮\n",
        "with zipfile.ZipFile('plots.zip', 'w') as zipf:\n",
        "    for root, dirs, files in os.walk('plots'):\n",
        "        for file in files:\n",
        "            zipf.write(os.path.join(root, file))\n",
        "\n",
        "# ZIPファイルをダウンロード\n",
        "#files.download('plots.zip')\n"
      ],
      "metadata": {
        "id": "JcHMMxlCbKNr"
      },
      "execution_count": null,
      "outputs": []
    },
    {
      "cell_type": "code",
      "source": [],
      "metadata": {
        "id": "lLafuR9aYrRy"
      },
      "execution_count": null,
      "outputs": []
    }
  ]
}