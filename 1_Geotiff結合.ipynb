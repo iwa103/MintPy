{
  "nbformat": 4,
  "nbformat_minor": 0,
  "metadata": {
    "colab": {
      "provenance": [],
      "authorship_tag": "ABX9TyOBSc4N0tVZO675mA9vBccn",
      "include_colab_link": true
    },
    "kernelspec": {
      "name": "python3",
      "display_name": "Python 3"
    },
    "language_info": {
      "name": "python"
    }
  },
  "cells": [
    {
      "cell_type": "markdown",
      "metadata": {
        "id": "view-in-github",
        "colab_type": "text"
      },
      "source": [
        "<a href=\"https://colab.research.google.com/github/iwa103/MintPy/blob/main/1_Geotiff%E7%B5%90%E5%90%88.ipynb\" target=\"_parent\"><img src=\"https://colab.research.google.com/assets/colab-badge.svg\" alt=\"Open In Colab\"/></a>"
      ]
    },
    {
      "cell_type": "markdown",
      "source": [
        "## 利用するライブラリのインストール"
      ],
      "metadata": {
        "id": "Eb-RNzL3upgD"
      }
    },
    {
      "cell_type": "code",
      "source": [
        "!pip install rasterio\n",
        "!pip install h5py\n"
      ],
      "metadata": {
        "id": "bstV9d1F39DJ"
      },
      "execution_count": null,
      "outputs": []
    },
    {
      "cell_type": "markdown",
      "source": [
        "## 変位データ抽出部分"
      ],
      "metadata": {
        "id": "cxm82uGhfQkV"
      }
    },
    {
      "cell_type": "markdown",
      "source": [
        "入力するファイル取込は２回実施  \n",
        "１回目：抽出したいポイントの座標値（緯度経度）  \n",
        "２回目：グラフに取込みたい変位データのGeotiffファイルを選択（基本は全選択）"
      ],
      "metadata": {
        "id": "ESs9prQEB0Hm"
      }
    },
    {
      "cell_type": "code",
      "source": [
        "# 変位用\n",
        "import csv\n",
        "import re\n",
        "from google.colab import files\n",
        "import rasterio\n",
        "\n",
        "# 座標が記載されたテキストファイルのアップロード\n",
        "uploaded_coord_file = files.upload()\n",
        "coord_file_name = next(iter(uploaded_coord_file))\n",
        "\n",
        "# 座標ファイルの読み込み\n",
        "coordinates = []\n",
        "with open(coord_file_name, 'r') as coord_file:\n",
        "    csv_reader = csv.reader(coord_file)\n",
        "    next(csv_reader)  # 最初の行をスキップする\n",
        "    for line in csv_reader:\n",
        "        point, lon, lat = line\n",
        "        coordinates.append((point.strip(), float(lat.strip()), float(lon.strip())))\n",
        "\n",
        "print(coordinates)\n",
        "\n",
        "# GeoTIFFファイルのアップロード\n",
        "uploaded_tiff_files = files.upload()\n",
        "\n",
        "# 最初の行のヘッダー名を設定（例: \"Point_A_value\"）\n",
        "first_point_header = f'{coordinates[0][0]}_value'\n",
        "\n",
        "# CSVファイルのヘッダー（2つ目のポイントから始める）\n",
        "csv_header = ['Date', first_point_header] + [f'{point}_value' for point, _, _ in coordinates[1:]]\n",
        "\n",
        "# CSVファイルのファイル名\n",
        "csv_file_name = 'geoTIFF_values.csv'\n",
        "\n",
        "# 結果をCSVファイルに保存\n",
        "with open(csv_file_name, 'w', newline='') as csvfile:\n",
        "    csv_writer = csv.writer(csvfile)\n",
        "    csv_writer.writerow(csv_header)  # ヘッダーの書き込み\n",
        "\n",
        "    for file_name in uploaded_tiff_files.keys():\n",
        "        row = [re.search(r'\\d{8}_\\d{8}', file_name).group()]  # 日付の抽出\n",
        "        for point, latitude, longitude in coordinates:\n",
        "            with rasterio.open(file_name) as src:\n",
        "                # 緯度経度をピクセル座標に変換\n",
        "                r, c = src.index(longitude, latitude)\n",
        "                # 範囲を超えていないか確認\n",
        "                r = max(0, min(r, src.height - 1))\n",
        "                c = max(0, min(c, src.width - 1))\n",
        "                # 対応するピクセルの値を取得\n",
        "                value = src.read(1)[r, c]\n",
        "                row.append(value)\n",
        "        csv_writer.writerow(row)\n",
        "\n",
        "# CSVファイルのダウンロード\n",
        "files.download(csv_file_name)\n"
      ],
      "metadata": {
        "id": "2T8PbVj4Ua4-"
      },
      "execution_count": null,
      "outputs": []
    }
  ]
}