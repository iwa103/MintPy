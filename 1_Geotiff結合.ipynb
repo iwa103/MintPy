{
  "nbformat": 4,
  "nbformat_minor": 0,
  "metadata": {
    "colab": {
      "provenance": [],
      "authorship_tag": "ABX9TyOCDBLVzTIX1N+pNMMkh4/k",
      "include_colab_link": true
    },
    "kernelspec": {
      "name": "python3",
      "display_name": "Python 3"
    },
    "language_info": {
      "name": "python"
    }
  },
  "cells": [
    {
      "cell_type": "markdown",
      "metadata": {
        "id": "view-in-github",
        "colab_type": "text"
      },
      "source": [
        "<a href=\"https://colab.research.google.com/github/iwa103/MintPy/blob/main/1_Geotiff%E7%B5%90%E5%90%88.ipynb\" target=\"_parent\"><img src=\"https://colab.research.google.com/assets/colab-badge.svg\" alt=\"Open In Colab\"/></a>"
      ]
    },
    {
      "cell_type": "code",
      "source": [
        "!pip install rasterio\n",
        "!pip install h5py\n"
      ],
      "metadata": {
        "id": "bstV9d1F39DJ"
      },
      "execution_count": null,
      "outputs": []
    },
    {
      "cell_type": "markdown",
      "source": [
        "## 変位用（複数のGeotiffあり）"
      ],
      "metadata": {
        "id": "cxm82uGhfQkV"
      }
    },
    {
      "cell_type": "markdown",
      "source": [
        "ファイル読込は２回実施（１回目　抽出したいポイントの座標値（緯度経度）、２回目　グラフに取込みたい変位データのGeotiffファイルを選択（基本は全選択）"
      ],
      "metadata": {
        "id": "ESs9prQEB0Hm"
      }
    },
    {
      "cell_type": "code",
      "source": [
        "# 変位用\n",
        "import csv\n",
        "import re\n",
        "from google.colab import files\n",
        "import rasterio\n",
        "\n",
        "# 座標が記載されたテキストファイルのアップロード\n",
        "uploaded_coord_file = files.upload()\n",
        "coord_file_name = next(iter(uploaded_coord_file))\n",
        "\n",
        "# 座標ファイルの読み込み\n",
        "coordinates = []\n",
        "with open(coord_file_name, 'r') as coord_file:\n",
        "    csv_reader = csv.reader(coord_file)\n",
        "    next(csv_reader)  # 最初の行をスキップする\n",
        "    for line in csv_reader:\n",
        "        point, lon, lat = line\n",
        "        coordinates.append((point.strip(), float(lat.strip()), float(lon.strip())))\n",
        "\n",
        "print(coordinates)\n",
        "\n",
        "# GeoTIFFファイルのアップロード\n",
        "uploaded_tiff_files = files.upload()\n",
        "\n",
        "# 最初の行のヘッダー名を設定（例: \"Point_A_value\"）\n",
        "first_point_header = f'{coordinates[0][0]}_value'\n",
        "\n",
        "# CSVファイルのヘッダー（2つ目のポイントから始める）\n",
        "csv_header = ['Date', first_point_header] + [f'{point}_value' for point, _, _ in coordinates[1:]]\n",
        "\n",
        "# CSVファイルのファイル名\n",
        "csv_file_name = 'geoTIFF_values.csv'\n",
        "\n",
        "# 結果をCSVファイルに保存\n",
        "with open(csv_file_name, 'w', newline='') as csvfile:\n",
        "    csv_writer = csv.writer(csvfile)\n",
        "    csv_writer.writerow(csv_header)  # ヘッダーの書き込み\n",
        "\n",
        "    for file_name in uploaded_tiff_files.keys():\n",
        "        row = [re.search(r'\\d{8}_\\d{8}', file_name).group()]  # 日付の抽出\n",
        "        for point, latitude, longitude in coordinates:\n",
        "            with rasterio.open(file_name) as src:\n",
        "                # 緯度経度をピクセル座標に変換\n",
        "                r, c = src.index(longitude, latitude)\n",
        "                # 範囲を超えていないか確認\n",
        "                r = max(0, min(r, src.height - 1))\n",
        "                c = max(0, min(c, src.width - 1))\n",
        "                # 対応するピクセルの値を取得\n",
        "                value = src.read(1)[r, c]\n",
        "                row.append(value)\n",
        "        csv_writer.writerow(row)\n",
        "\n",
        "# CSVファイルのダウンロード\n",
        "files.download(csv_file_name)\n"
      ],
      "metadata": {
        "id": "2T8PbVj4Ua4-"
      },
      "execution_count": null,
      "outputs": []
    },
    {
      "cell_type": "markdown",
      "source": [
        "## 補助的なもの"
      ],
      "metadata": {
        "id": "SoxGpDyfYaZL"
      }
    },
    {
      "cell_type": "markdown",
      "source": [
        "## ファイルサイズが大きい場合用"
      ],
      "metadata": {
        "id": "r3lvV-djqmUO"
      }
    },
    {
      "cell_type": "code",
      "source": [
        "import csv\n",
        "import re\n",
        "import os\n",
        "import rasterio\n",
        "\n",
        "# 座標ファイルのパス\n",
        "coord_file_path = '/content/高松グラフ用ポイント.csv'  # ここを座標ファイルのパスに変更\n",
        "\n",
        "# 座標ファイルの読み込み\n",
        "coordinates = []\n",
        "with open(coord_file_path, 'r') as coord_file:\n",
        "    csv_reader = csv.reader(coord_file)\n",
        "    next(csv_reader)  # 最初の行をスキップする\n",
        "    for line in csv_reader:\n",
        "        point, lon, lat = line\n",
        "        coordinates.append((point.strip(), float(lat.strip()), float(lon.strip())))\n",
        "\n",
        "print(coordinates)\n",
        "\n",
        "# GeoTIFFファイルが保存されているフォルダのパス\n",
        "tiff_folder_path = '/content/data'  # ここをフォルダのパスに変更\n",
        "\n",
        "# 最初の行のヘッダー名を設定（例: \"Point_A_value\"）\n",
        "first_point_header = f'{coordinates[0][0]}_value'\n",
        "\n",
        "# CSVファイルのヘッダー（2つ目のポイントから始める）\n",
        "csv_header = ['Date', first_point_header] + [f'{point}_value' for point, _, _ in coordinates[1:]]\n",
        "\n",
        "# CSVファイルのファイル名\n",
        "csv_file_name = 'geoTIFF_values.csv'\n",
        "\n",
        "# 結果をCSVファイルに保存\n",
        "with open(csv_file_name, 'w', newline='') as csvfile:\n",
        "    csv_writer = csv.writer(csvfile)\n",
        "    csv_writer.writerow(csv_header)  # ヘッダーの書き込み\n",
        "\n",
        "    for file_name in os.listdir(tiff_folder_path):\n",
        "        if file_name.endswith('.tif') or file_name.endswith('.tiff'):\n",
        "            row = [re.search(r'\\d{8}_\\d{8}', file_name).group()]  # 日付の抽出\n",
        "            full_file_path = os.path.join(tiff_folder_path, file_name)\n",
        "            for point, latitude, longitude in coordinates:\n",
        "                with rasterio.open(full_file_path) as src:\n",
        "                    # 緯度経度をピクセル座標に変換\n",
        "                    r, c = src.index(longitude, latitude)\n",
        "                    # 範囲を超えていないか確認\n",
        "                    r = max(0, min(r, src.height - 1))\n",
        "                    c = max(0, min(c, src.width - 1))\n",
        "                    # 対応するピクセルの値を取得\n",
        "                    value = src.read(1)[r, c]\n",
        "                    row.append(value)\n",
        "            csv_writer.writerow(row)\n"
      ],
      "metadata": {
        "id": "l5DBSOe9qiZ2"
      },
      "execution_count": null,
      "outputs": []
    },
    {
      "cell_type": "markdown",
      "source": [
        "## コヒーレンス用"
      ],
      "metadata": {
        "id": "Aq3dvFzOfgTp"
      }
    },
    {
      "cell_type": "code",
      "source": [
        "# 変位用\n",
        "import csv\n",
        "import re\n",
        "from google.colab import files\n",
        "import rasterio\n",
        "\n",
        "# 座標が記載されたテキストファイルのアップロード\n",
        "uploaded_coord_file = files.upload()\n",
        "coord_file_name = next(iter(uploaded_coord_file))\n",
        "\n",
        "# 座標ファイルの読み込み\n",
        "coordinates = []\n",
        "with open(coord_file_name, 'r') as coord_file:\n",
        "    csv_reader = csv.reader(coord_file)\n",
        "    next(csv_reader)  # 最初の行をスキップする\n",
        "    for line in csv_reader:\n",
        "        point, lon, lat = line\n",
        "        coordinates.append((point.strip(), float(lat.strip()), float(lon.strip())))\n",
        "\n",
        "print(coordinates)\n",
        "\n",
        "# GeoTIFFファイルのアップロード\n",
        "uploaded_tiff_files = files.upload()\n",
        "\n",
        "# 最初の行のヘッダー名を設定（例: \"Point_A_value\"）\n",
        "first_point_header = f'{coordinates[0][0]}_value'\n",
        "\n",
        "# CSVファイルのヘッダー（2つ目のポイントから始める）\n",
        "csv_header = ['Date', first_point_header] + [f'{point}_value' for point, _, _ in coordinates[1:]]\n",
        "\n",
        "# CSVファイルのファイル名\n",
        "csv_file_name = 'geoTIFF_values.csv'\n",
        "\n",
        "# 結果をCSVファイルに保存\n",
        "with open(csv_file_name, 'w', newline='') as csvfile:\n",
        "    csv_writer = csv.writer(csvfile)\n",
        "    csv_writer.writerow(csv_header)  # ヘッダーの書き込み\n",
        "\n",
        "    for file_name in uploaded_tiff_files.keys():\n",
        "        # row = [re.search(r'\\d{8}_\\d{8}', file_name).group()]  # 日付の抽出 使わない！！\n",
        "        row = [file_name]  # ファイル名を直接使用\n",
        "        for point, latitude, longitude in coordinates:\n",
        "            with rasterio.open(file_name) as src:\n",
        "                # 緯度経度をピクセル座標に変換\n",
        "                r, c = src.index(longitude, latitude)\n",
        "                # 範囲を超えていないか確認\n",
        "                r = max(0, min(r, src.height - 1))\n",
        "                c = max(0, min(c, src.width - 1))\n",
        "                # 対応するピクセルの値を取得\n",
        "                value = src.read(1)[r, c]\n",
        "                row.append(value)\n",
        "        csv_writer.writerow(row)\n",
        "\n",
        "# CSVファイルのダウンロード\n",
        "files.download(csv_file_name)\n"
      ],
      "metadata": {
        "id": "VODaSl2Ifa9d"
      },
      "execution_count": null,
      "outputs": []
    },
    {
      "cell_type": "markdown",
      "source": [
        "## 水面や変位計算不可のデータ削除"
      ],
      "metadata": {
        "id": "34_9O6JBDnXN"
      }
    },
    {
      "cell_type": "code",
      "source": [
        "import pandas as pd\n",
        "\n",
        "# CSVファイルを読み込む（ここではファイルパスを 'your_file.csv' としています）\n",
        "file_path = '/content/geoTIFF_values.csv'\n",
        "df = pd.read_csv(file_path)\n",
        "\n",
        "# 3行目に値がない列を削除\n",
        "df_filtered_columns = df.loc[:, df.iloc[2] != 0]\n",
        "\n",
        "# 結果を表示\n",
        "print(df_filtered_columns.head())\n",
        "\n",
        "# 結果を新しいCSVファイルに保存する場合\n",
        "df_filtered_columns.to_csv('filtered_data.csv', index=False)\n"
      ],
      "metadata": {
        "id": "pYemRoq5rKtC"
      },
      "execution_count": null,
      "outputs": []
    },
    {
      "cell_type": "markdown",
      "source": [
        "## フィルタで残ったポイントからポイントファイル作成"
      ],
      "metadata": {
        "id": "SIeLFnTGD8lP"
      }
    },
    {
      "cell_type": "code",
      "source": [
        "import pandas as pd\n",
        "\n",
        "# CSVファイルを読み込む（ファイルパスは 'your_file.csv' に置き換えてください）\n",
        "df = pd.read_csv('/content/filtered_data.csv')\n",
        "\n",
        "# ヘッダー（最初の行）の2列目からの値を取得\n",
        "header_values = df.columns[1:]  # 1列目を除外\n",
        "\n",
        "# それぞれのヘッダー値を改行で区切ってCSV形式の文字列として保存\n",
        "header_csv_string = \"\\n\".join(header_values)\n",
        "\n",
        "# CSV形式の文字列をファイルに書き出す\n",
        "with open('header_values.csv', 'w') as file:\n",
        "    file.write(header_csv_string)\n"
      ],
      "metadata": {
        "id": "ixb-0omguNxi"
      },
      "execution_count": null,
      "outputs": []
    }
  ]
}